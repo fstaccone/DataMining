{
 "cells": [
  {
   "cell_type": "markdown",
   "metadata": {},
   "source": [
    "# Homework 3: Mining Data Streams\n",
    "\n",
    "Chosen algorithm:\n",
    "Trièst, a suite of sampling-based, one-pass\n",
    "algorithms to approximate\n",
    "the global number of triangles and the local number of\n",
    "triangles incident to each vertex in a fully-dynamic graph stream (i.e., a sequence\n",
    "of edges additions and deletions in arbitrary order) using\n",
    "a fixed amount of memory"
   ]
  },
  {
   "cell_type": "code",
   "execution_count": 107,
   "metadata": {},
   "outputs": [],
   "source": [
    "from collections import defaultdict\n",
    "import random\n",
    "\n",
    "#the algorithms keep an edge sample S of up to M edges from the stream\n",
    "M = 1000\n",
    "S = set()\n",
    "#time\n",
    "t = 0\n",
    "#estimated global and local number of triangles\n",
    "global_tau=0 \n",
    "local_tau = defaultdict(int)\n",
    "\n",
    "file = open('out.maayan-faa', 'r') "
   ]
  },
  {
   "cell_type": "code",
   "execution_count": 108,
   "metadata": {},
   "outputs": [],
   "source": [
    "def get_neighbours(u_v):\n",
    "    neighbours_u = set()\n",
    "    neighbours_v = set()\n",
    "    for edge in S:\n",
    "        #print (\"edge: \",edge)\n",
    "        if edge[0] == u_v[0]:\n",
    "            neighbours_v.add(edge[0])\n",
    "        if edge[1] == u_v[0]:\n",
    "            neighbours_v.add(edge[1])\n",
    "        if edge[0] == u_v[1]:\n",
    "            neighbours_u.add(edge[0])\n",
    "        if edge[1] == u_v[1]:\n",
    "            neighbours_u.add(edge[1])\n",
    "    return neighbours_u, neighbours_v"
   ]
  },
  {
   "cell_type": "code",
   "execution_count": 109,
   "metadata": {},
   "outputs": [],
   "source": [
    "def flip_biased_coin(value):\n",
    "    return True if random.random() < value else False"
   ]
  },
  {
   "cell_type": "code",
   "execution_count": 110,
   "metadata": {},
   "outputs": [],
   "source": [
    "def update_counters(sign, edge):\n",
    "    global global_tau\n",
    "    #shared neighborhood of u and v in the current sample S\n",
    "    neighbours_u, neighbours_v = get_neighbours(edge)\n",
    "    intersection = neighbours_u & neighbours_v\n",
    "    for c in intersection:\n",
    "        global_tau = global_tau + 1 if sign == '+' else global_tau - 1\n",
    "        print (global_tau)\n",
    "        local_tau[c] = local_tau[c] + 1 if sign == '+' else local_tau[c] - 1\n",
    "        local_tau[edge[0]] = local_tau[edge[0]] + 1 if sign == '+' else local_tau[edge[0]] - 1\n",
    "        local_tau[edge[1]] = local_tau[edge[1]] + 1 if sign == '+' else local_tau[edge[1]] - 1\n",
    "        \n",
    "        #local counters are always destroyed as soon as they have a value of 0\n",
    "        if local_tau[c] == 0:\n",
    "            del local_tau[c]\n",
    "        if local_tau[edge[0]] == 0:\n",
    "            del local_tau[edge[0]]\n",
    "        if local_tau[edge[1]] == 0:\n",
    "            del local_tau[edge[1]]"
   ]
  },
  {
   "cell_type": "code",
   "execution_count": 111,
   "metadata": {},
   "outputs": [],
   "source": [
    "#reservoir sampling algorithm to maintain the edge sample S\n",
    "def sample_edge_base(edge):\n",
    "    if t  <= M:\n",
    "        return True\n",
    "    elif flip_biased_coin(M / float(t)):\n",
    "        discarded_edge = S.pop()\n",
    "        S.discard(discarded_edge)\n",
    "        update_counters(\"-\", discarded_edge)\n",
    "        return True\n",
    "    return False"
   ]
  },
  {
   "cell_type": "code",
   "execution_count": 112,
   "metadata": {},
   "outputs": [
    {
     "ename": "UnboundLocalError",
     "evalue": "local variable 'global_tau' referenced before assignment",
     "output_type": "error",
     "traceback": [
      "\u001b[0;31m---------------------------------------------------------------------------\u001b[0m",
      "\u001b[0;31mUnboundLocalError\u001b[0m                         Traceback (most recent call last)",
      "\u001b[0;32m<ipython-input-112-145d32302d39>\u001b[0m in \u001b[0;36m<module>\u001b[0;34m\u001b[0m\n\u001b[1;32m      6\u001b[0m     \u001b[0;32mif\u001b[0m \u001b[0msample_edge_base\u001b[0m\u001b[0;34m(\u001b[0m\u001b[0mnew_edge\u001b[0m\u001b[0;34m)\u001b[0m\u001b[0;34m:\u001b[0m\u001b[0;34m\u001b[0m\u001b[0;34m\u001b[0m\u001b[0m\n\u001b[1;32m      7\u001b[0m         \u001b[0mS\u001b[0m\u001b[0;34m.\u001b[0m\u001b[0madd\u001b[0m\u001b[0;34m(\u001b[0m\u001b[0mnew_edge\u001b[0m\u001b[0;34m)\u001b[0m\u001b[0;34m\u001b[0m\u001b[0;34m\u001b[0m\u001b[0m\n\u001b[0;32m----> 8\u001b[0;31m         \u001b[0mupdate_counters\u001b[0m\u001b[0;34m(\u001b[0m\u001b[0;34m\"+\"\u001b[0m\u001b[0;34m,\u001b[0m \u001b[0mnew_edge\u001b[0m\u001b[0;34m)\u001b[0m\u001b[0;34m\u001b[0m\u001b[0;34m\u001b[0m\u001b[0m\n\u001b[0m",
      "\u001b[0;32m<ipython-input-110-bce8bb12eda0>\u001b[0m in \u001b[0;36mupdate_counters\u001b[0;34m(sign, edge)\u001b[0m\n\u001b[1;32m      5\u001b[0m     \u001b[0mintersection\u001b[0m \u001b[0;34m=\u001b[0m \u001b[0mneighbours_u\u001b[0m \u001b[0;34m&\u001b[0m \u001b[0mneighbours_v\u001b[0m\u001b[0;34m\u001b[0m\u001b[0;34m\u001b[0m\u001b[0m\n\u001b[1;32m      6\u001b[0m     \u001b[0;32mfor\u001b[0m \u001b[0mc\u001b[0m \u001b[0;32min\u001b[0m \u001b[0mintersection\u001b[0m\u001b[0;34m:\u001b[0m\u001b[0;34m\u001b[0m\u001b[0;34m\u001b[0m\u001b[0m\n\u001b[0;32m----> 7\u001b[0;31m         \u001b[0mglobal_tau\u001b[0m \u001b[0;34m=\u001b[0m \u001b[0mglobal_tau\u001b[0m \u001b[0;34m+\u001b[0m \u001b[0;36m1\u001b[0m \u001b[0;32mif\u001b[0m \u001b[0msign\u001b[0m \u001b[0;34m==\u001b[0m \u001b[0;34m'+'\u001b[0m \u001b[0;32melse\u001b[0m \u001b[0mglobal_tau\u001b[0m \u001b[0;34m-\u001b[0m \u001b[0;36m1\u001b[0m\u001b[0;34m\u001b[0m\u001b[0;34m\u001b[0m\u001b[0m\n\u001b[0m\u001b[1;32m      8\u001b[0m         \u001b[0mprint\u001b[0m \u001b[0;34m(\u001b[0m\u001b[0mglobal_tau\u001b[0m\u001b[0;34m)\u001b[0m\u001b[0;34m\u001b[0m\u001b[0;34m\u001b[0m\u001b[0m\n\u001b[1;32m      9\u001b[0m         \u001b[0mlocal_tau\u001b[0m\u001b[0;34m[\u001b[0m\u001b[0mc\u001b[0m\u001b[0;34m]\u001b[0m \u001b[0;34m=\u001b[0m \u001b[0mlocal_tau\u001b[0m\u001b[0;34m[\u001b[0m\u001b[0mc\u001b[0m\u001b[0;34m]\u001b[0m \u001b[0;34m+\u001b[0m \u001b[0;36m1\u001b[0m \u001b[0;32mif\u001b[0m \u001b[0msign\u001b[0m \u001b[0;34m==\u001b[0m \u001b[0;34m'+'\u001b[0m \u001b[0;32melse\u001b[0m \u001b[0mlocal_tau\u001b[0m\u001b[0;34m[\u001b[0m\u001b[0mc\u001b[0m\u001b[0;34m]\u001b[0m \u001b[0;34m-\u001b[0m \u001b[0;36m1\u001b[0m\u001b[0;34m\u001b[0m\u001b[0;34m\u001b[0m\u001b[0m\n",
      "\u001b[0;31mUnboundLocalError\u001b[0m: local variable 'global_tau' referenced before assignment"
     ]
    }
   ],
   "source": [
    "for line in file.readlines():\n",
    "    t += 1\n",
    "    line = line.split()\n",
    "    line = sorted([int(line[0]), int(line[1])])\n",
    "    new_edge = tuple(line)\n",
    "    if sample_edge_base(new_edge):\n",
    "        S.add(new_edge)\n",
    "        update_counters(\"+\", new_edge)"
   ]
  },
  {
   "cell_type": "code",
   "execution_count": null,
   "metadata": {},
   "outputs": [],
   "source": [
    "print((t*(t-1)*(t-2))/(M*(M-1)*(M-2)))\n",
    "epsilon = max(1, (t*(t-1)*(t-2))/(M*(M-1)*(M-2)))\n",
    "\n",
    "print(t)\n",
    "print(\"Global counter: \", global_tau*epsilon)"
   ]
  },
  {
   "cell_type": "code",
   "execution_count": null,
   "metadata": {},
   "outputs": [],
   "source": []
  }
 ],
 "metadata": {
  "kernelspec": {
   "display_name": "Python 3",
   "language": "python",
   "name": "python3"
  },
  "language_info": {
   "codemirror_mode": {
    "name": "ipython",
    "version": 3
   },
   "file_extension": ".py",
   "mimetype": "text/x-python",
   "name": "python",
   "nbconvert_exporter": "python",
   "pygments_lexer": "ipython3",
   "version": "3.6.8"
  }
 },
 "nbformat": 4,
 "nbformat_minor": 2
}
