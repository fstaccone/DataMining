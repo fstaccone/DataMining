{
 "cells": [
  {
   "cell_type": "markdown",
   "metadata": {},
   "source": [
    "# Homework 2: Discovery of Frequent Itemsets and Association Rules"
   ]
  },
  {
   "cell_type": "code",
   "execution_count": 1,
   "metadata": {},
   "outputs": [],
   "source": [
    "from itertools import combinations\n",
    "from operator import itemgetter\n",
    "import pandas as pd\n",
    "from time import time"
   ]
  },
  {
   "cell_type": "code",
   "execution_count": 2,
   "metadata": {
    "scrolled": true
   },
   "outputs": [
    {
     "data": {
      "text/html": [
       "<div>\n",
       "<style scoped>\n",
       "    .dataframe tbody tr th:only-of-type {\n",
       "        vertical-align: middle;\n",
       "    }\n",
       "\n",
       "    .dataframe tbody tr th {\n",
       "        vertical-align: top;\n",
       "    }\n",
       "\n",
       "    .dataframe thead th {\n",
       "        text-align: right;\n",
       "    }\n",
       "</style>\n",
       "<table border=\"1\" class=\"dataframe\">\n",
       "  <thead>\n",
       "    <tr style=\"text-align: right;\">\n",
       "      <th></th>\n",
       "      <th>product</th>\n",
       "    </tr>\n",
       "  </thead>\n",
       "  <tbody>\n",
       "    <tr>\n",
       "      <th>0</th>\n",
       "      <td>30,31,32</td>\n",
       "    </tr>\n",
       "    <tr>\n",
       "      <th>1</th>\n",
       "      <td>33,34,35</td>\n",
       "    </tr>\n",
       "    <tr>\n",
       "      <th>2</th>\n",
       "      <td>36,37,38,39,40,41,42,43,44,45,46</td>\n",
       "    </tr>\n",
       "    <tr>\n",
       "      <th>3</th>\n",
       "      <td>38,39,47,48</td>\n",
       "    </tr>\n",
       "    <tr>\n",
       "      <th>4</th>\n",
       "      <td>38,39,48,49,50,51,52,53,54,55,56,57,58</td>\n",
       "    </tr>\n",
       "  </tbody>\n",
       "</table>\n",
       "</div>"
      ],
      "text/plain": [
       "                                  product\n",
       "0                                30,31,32\n",
       "1                                33,34,35\n",
       "2        36,37,38,39,40,41,42,43,44,45,46\n",
       "3                             38,39,47,48\n",
       "4  38,39,48,49,50,51,52,53,54,55,56,57,58"
      ]
     },
     "execution_count": 2,
     "metadata": {},
     "output_type": "execute_result"
    }
   ],
   "source": [
    "#Retail dataset downloaded from http://fimi.uantwerpen.be/data/\n",
    "dataset = pd.read_csv('small_data')\n",
    "dataset.head()"
   ]
  },
  {
   "cell_type": "markdown",
   "metadata": {},
   "source": [
    "# Frequent Itemsets"
   ]
  },
  {
   "cell_type": "code",
   "execution_count": 3,
   "metadata": {},
   "outputs": [],
   "source": [
    "def apriori(data, support):\n",
    "\n",
    "    #Getting all the single items >= the support per column\n",
    "    single_items = (data['product'].str.split(\",\", expand=True))\\\n",
    "        .apply(pd.value_counts).sum(axis=1).where(lambda value: value > support).dropna()\n",
    "\n",
    "    #Appending the list from single_items\n",
    "    apriori_data = pd.DataFrame(\n",
    "        {'product': single_items.index.astype(int), 'support': single_items.values, 'set_size': 1})\n",
    "\n",
    "    #Column for generating subsets\n",
    "    data['set_size'] = data['product'].str.count(\",\") + 1\n",
    "\n",
    "    #Just making this integers\n",
    "    data['product'] = data['product'].apply(lambda row: set(map(int, row.split(\",\"))))\n",
    "\n",
    "    #The parent set\n",
    "    single_items_set = set(single_items.index.astype(int))\n",
    "\n",
    "    #Starting loop to discount records with one prodcut/item\n",
    "    for length in range(2, len(single_items_set) + 1):\n",
    "        data = data[data['set_size'] >= length]\n",
    "        d = data['product'] \\\n",
    "            .apply(lambda st: pd.Series(s if set(s).issubset(st) else None for s in combinations(single_items_set, length))) \\\n",
    "            .apply(lambda col: [col.dropna().unique()[0], col.count()] if col.count() >= support else None).dropna()\n",
    "        if d.empty: #If the series is empty don't append and break loop\n",
    "            break\n",
    "        apriori_data = apriori_data.append(pd.DataFrame(\n",
    "            {'product': list(map(itemgetter(0), d.values)), 'support': list(map(itemgetter(1), d.values)),\n",
    "             'set_size': length}), ignore_index=True)\n",
    "\n",
    "    return apriori_data"
   ]
  },
  {
   "cell_type": "code",
   "execution_count": null,
   "metadata": {
    "scrolled": false
   },
   "outputs": [],
   "source": [
    "support=5 #The smaller, the more frequent itemsets we will have\n",
    "\n",
    "frequent_itemsets=apriori(dataset, support)\n",
    "frequent_itemsets\n"
   ]
  },
  {
   "cell_type": "code",
   "execution_count": null,
   "metadata": {},
   "outputs": [],
   "source": []
  },
  {
   "cell_type": "code",
   "execution_count": null,
   "metadata": {},
   "outputs": [],
   "source": []
  }
 ],
 "metadata": {
  "kernelspec": {
   "display_name": "Python 3",
   "language": "python",
   "name": "python3"
  },
  "language_info": {
   "codemirror_mode": {
    "name": "ipython",
    "version": 3
   },
   "file_extension": ".py",
   "mimetype": "text/x-python",
   "name": "python",
   "nbconvert_exporter": "python",
   "pygments_lexer": "ipython3",
   "version": "3.7.3"
  }
 },
 "nbformat": 4,
 "nbformat_minor": 2
}
