{
 "cells": [
  {
   "cell_type": "markdown",
   "metadata": {},
   "source": [
    "# Homework 1: Finding Similar Items: Textually Similar Documents"
   ]
  },
  {
   "cell_type": "code",
   "execution_count": 2,
   "metadata": {},
   "outputs": [],
   "source": [
    "import pandas as pd\n",
    "import binascii\n",
    "import timeit\n",
    "from math import sqrt; from itertools import count, islice"
   ]
  },
  {
   "cell_type": "code",
   "execution_count": 3,
   "metadata": {},
   "outputs": [],
   "source": [
    "pd.set_option('display.max_colwidth', -1)"
   ]
  },
  {
   "cell_type": "code",
   "execution_count": 4,
   "metadata": {},
   "outputs": [],
   "source": [
    "#loads emails\n",
    "dataset = pd.read_csv(\"dropped.csv\")"
   ]
  },
  {
   "cell_type": "code",
   "execution_count": 5,
   "metadata": {},
   "outputs": [
    {
     "data": {
      "text/html": [
       "<div>\n",
       "<style scoped>\n",
       "    .dataframe tbody tr th:only-of-type {\n",
       "        vertical-align: middle;\n",
       "    }\n",
       "\n",
       "    .dataframe tbody tr th {\n",
       "        vertical-align: top;\n",
       "    }\n",
       "\n",
       "    .dataframe thead th {\n",
       "        text-align: right;\n",
       "    }\n",
       "</style>\n",
       "<table border=\"1\" class=\"dataframe\">\n",
       "  <thead>\n",
       "    <tr style=\"text-align: right;\">\n",
       "      <th></th>\n",
       "      <th>1</th>\n",
       "    </tr>\n",
       "  </thead>\n",
       "  <tbody>\n",
       "    <tr>\n",
       "      <th>0</th>\n",
       "      <td>Here is our forecast</td>\n",
       "    </tr>\n",
       "    <tr>\n",
       "      <th>1</th>\n",
       "      <td>Traveling to have a business meeting takes the fun out of the trip.  Especially if you have to prepare a presentation.  I would suggest holding the business plan meetings here then take a trip without any formal business meetings.  I would even try and get some honest opinions on whether a trip is even desired or necessary.As far as the business meetings, I think it would be more productive to try and stimulate discussions across the different groups about what is working and what is not.  Too often the presenter speaks and the others are quiet just waiting for their turn.   The meetings might be better if held in a round table discussion format.  My suggestion for where to go is Austin.  Play golf and rent a ski boat and jet ski's.  Flying somewhere takes too much time.</td>\n",
       "    </tr>\n",
       "    <tr>\n",
       "      <th>2</th>\n",
       "      <td>test successful.  way to go!!!</td>\n",
       "    </tr>\n",
       "    <tr>\n",
       "      <th>3</th>\n",
       "      <td>Randy, Can you send me a schedule of the salary and level of everyone in the scheduling group.  Plus your thoughts on any changes that need to be made.  (Patti S for example)Phillip</td>\n",
       "    </tr>\n",
       "    <tr>\n",
       "      <th>4</th>\n",
       "      <td>Let's shoot for Tuesday at 11:45.</td>\n",
       "    </tr>\n",
       "  </tbody>\n",
       "</table>\n",
       "</div>"
      ],
      "text/plain": [
       "                                                                                                                                                                                                                                                                                                                                                                                                                                                                                                                                                                                                                                                                                                                                                                                                               1\n",
       "0  Here is our forecast                                                                                                                                                                                                                                                                                                                                                                                                                                                                                                                                                                                                                                                                                                                                                                                         \n",
       "1  Traveling to have a business meeting takes the fun out of the trip.  Especially if you have to prepare a presentation.  I would suggest holding the business plan meetings here then take a trip without any formal business meetings.  I would even try and get some honest opinions on whether a trip is even desired or necessary.As far as the business meetings, I think it would be more productive to try and stimulate discussions across the different groups about what is working and what is not.  Too often the presenter speaks and the others are quiet just waiting for their turn.   The meetings might be better if held in a round table discussion format.  My suggestion for where to go is Austin.  Play golf and rent a ski boat and jet ski's.  Flying somewhere takes too much time.\n",
       "2  test successful.  way to go!!!                                                                                                                                                                                                                                                                                                                                                                                                                                                                                                                                                                                                                                                                                                                                                                               \n",
       "3  Randy, Can you send me a schedule of the salary and level of everyone in the scheduling group.  Plus your thoughts on any changes that need to be made.  (Patti S for example)Phillip                                                                                                                                                                                                                                                                                                                                                                                                                                                                                                                                                                                                                        \n",
       "4  Let's shoot for Tuesday at 11:45.                                                                                                                                                                                                                                                                                                                                                                                                                                                                                                                                                                                                                                                                                                                                                                            "
      ]
     },
     "execution_count": 5,
     "metadata": {},
     "output_type": "execute_result"
    }
   ],
   "source": [
    "#shows first 5 emails\n",
    "dataset.head(5)"
   ]
  },
  {
   "cell_type": "markdown",
   "metadata": {},
   "source": [
    "## Shingles Similarity"
   ]
  },
  {
   "cell_type": "code",
   "execution_count": 6,
   "metadata": {},
   "outputs": [],
   "source": [
    "# number of letters in a shingle\n",
    "k_shingles=5\n",
    "\n",
    "all_shingles=list() \n",
    "threshold=0.5"
   ]
  },
  {
   "cell_type": "code",
   "execution_count": 7,
   "metadata": {},
   "outputs": [],
   "source": [
    "#function to compute the set of k-shingles for an email\n",
    "def get_k_shingles(email_text):\n",
    "    letters = list(str(email_text).strip('[]\" ').replace(\"'\",\"\"))\n",
    "    #for i in range(len(letters) - k_shingles + 1):\n",
    "        #print (letters[i:i+k_shingles])\n",
    "    #print(letters)\n",
    "    return sorted(set([binascii.crc32(str.encode(\"\".join(letters[i:i+k_shingles]))) & 0xffffffff for i in range(len(letters) - k_shingles + 1)]))\n",
    "\n",
    "#function to compare two sets of k-shingles using Jaccard Similarity\n",
    "def shingles_similarity(a, b):\n",
    "    intersection = len(list(set(a).intersection(b)))\n",
    "    #print (intersection)\n",
    "    union = (len(a) + len(b)) - intersection\n",
    "    if union == 0:\n",
    "        return 0.0\n",
    "    return intersection / float(union)\n"
   ]
  },
  {
   "cell_type": "code",
   "execution_count": 8,
   "metadata": {},
   "outputs": [
    {
     "name": "stdout",
     "output_type": "stream",
     "text": [
      "\n",
      " + SHINGLES + \n",
      "\n",
      "(mail 0, mail 277): 0.9411764705882353\n",
      "(mail 1, mail 286): 1.0\n",
      "(mail 12, mail 13): 0.9963963963963964\n",
      "(mail 17, mail 287): 1.0\n",
      "(mail 23, mail 24): 0.9050632911392406\n",
      "(mail 25, mail 26): 0.9980963259090044\n",
      "(mail 28, mail 288): 1.0\n",
      "(mail 30, mail 35): 0.5845323741007195\n",
      "(mail 34, mail 35): 0.7072310405643739\n",
      "(mail 39, mail 289): 1.0\n",
      "(mail 41, mail 51): 0.9934776163652534\n",
      "(mail 41, mail 57): 0.9931770987837437\n",
      "(mail 50, mail 290): 0.9376218323586745\n",
      "(mail 51, mail 57): 0.9931770987837437\n",
      "(mail 61, mail 292): 0.8695884553714591\n",
      "(mail 66, mail 71): 0.8197674418604651\n",
      "(mail 67, mail 74): 0.8710801393728222\n",
      "(mail 72, mail 293): 0.8297541238717709\n",
      "(mail 80, mail 123): 0.5454545454545454\n",
      "(mail 83, mail 294): 1.0\n",
      "(mail 94, mail 105): 0.9806295399515739\n",
      "(mail 94, mail 295): 0.9324644549763034\n",
      "(mail 94, mail 296): 0.9143192488262911\n",
      "(mail 105, mail 295): 0.9143192488262911\n",
      "(mail 105, mail 296): 0.9324644549763034\n",
      "(mail 116, mail 278): 0.833686120350771\n",
      "(mail 124, mail 142): 0.8536585365853658\n",
      "(mail 128, mail 297): 1.0\n",
      "(mail 150, mail 298): 1.0\n",
      "(mail 161, mail 299): 1.0\n",
      "(mail 169, mail 170): 0.9619771863117871\n",
      "(mail 172, mail 301): 1.0\n",
      "(mail 183, mail 302): 0.9510624597553123\n",
      "(mail 192, mail 193): 0.9447004608294931\n",
      "(mail 194, mail 303): 1.0\n",
      "(mail 199, mail 200): 0.9096774193548387\n",
      "(mail 205, mail 304): 0.9588336192109777\n",
      "(mail 209, mail 233): 0.5266903914590747\n",
      "(mail 214, mail 217): 0.902542372881356\n",
      "(mail 220, mail 222): 0.8986175115207373\n",
      "(mail 223, mail 224): 0.6181818181818182\n",
      "(mail 226, mail 279): 1.0\n",
      "(mail 227, mail 305): 0.9133974833456698\n",
      "(mail 233, mail 246): 0.5418181818181819\n",
      "(mail 238, mail 306): 1.0\n",
      "(mail 247, mail 248): 0.9609571788413098\n",
      "(mail 249, mail 307): 1.0\n",
      "(mail 260, mail 308): 0.773851590106007\n",
      "(mail 270, mail 309): 0.9702702702702702\n",
      "(mail 280, mail 329): 1.0\n",
      "(mail 281, mail 311): 1.0\n",
      "(mail 283, mail 285): 0.8895311496467566\n",
      "(mail 291, mail 312): 1.0\n",
      "(mail 295, mail 296): 0.9805115712545676\n",
      "(mail 300, mail 313): 1.0\n",
      "(mail 314, mail 319): 1.0\n",
      "(mail 315, mail 341): 0.8681506849315068\n",
      "(mail 316, mail 352): 1.0\n",
      "(mail 317, mail 363): 1.0\n",
      "(mail 318, mail 374): 1.0\n",
      "(mail 320, mail 396): 0.6227477477477478\n",
      "(mail 321, mail 407): 1.0\n",
      "(mail 323, mail 324): 0.5515463917525774\n",
      "(mail 348, mail 349): 0.8918083462132921\n",
      "(mail 348, mail 350): 0.5441245870693724\n",
      "(mail 348, mail 351): 0.8810289389067524\n",
      "(mail 349, mail 350): 0.5966149506346967\n",
      "(mail 349, mail 351): 0.8051282051282052\n",
      "(mail 350, mail 351): 0.5034293552812071\n",
      "(mail 357, mail 358): 0.8851351351351351\n",
      "(mail 386, mail 390): 0.7987075928917609\n",
      "(mail 391, mail 488): 0.5423728813559322\n",
      "(mail 406, mail 408): 0.8534822601839684\n",
      "(mail 422, mail 427): 0.9847619047619047\n",
      "(mail 426, mail 451): 0.6035608308605341\n",
      "(mail 433, mail 434): 0.9615384615384616\n",
      "(mail 433, mail 447): 0.6941176470588235\n",
      "(mail 434, mail 447): 0.6941176470588235\n",
      "(mail 439, mail 445): 0.5678688524590164\n",
      "(mail 471, mail 472): 0.9092039800995025\n",
      "Time:  6.524189294024836\n"
     ]
    }
   ],
   "source": [
    "#iterates over the emails in the dataset and creates the shingles set for each mail calling the get_k_shingles function. It appends every shingles set in all_shingles.\n",
    "for row in dataset.iterrows():\n",
    "    email_shingles=get_k_shingles(row[1].values)\n",
    "    #print(email_shingles)\n",
    "    all_shingles.append(email_shingles)\n",
    "    #print(all_shingles)\n",
    "\n",
    "#prints the similarities between shingles sets whose value is > threshold\n",
    "print(\"\\n\", \"+ SHINGLES +\",\"\\n\")\n",
    "start = timeit.default_timer()\n",
    "for i in range(len(all_shingles)):\n",
    "    for j in range(len(all_shingles)):\n",
    "        if i < j:\n",
    "            value = shingles_similarity(all_shingles[i], all_shingles[j])\n",
    "            if value > threshold:\n",
    "                #print (all_shingles[i])\n",
    "                #print (all_shingles[j])\n",
    "                print(\"(mail \" + str(i) + \", mail \" + str(j) + \"): \" + str(value))\n",
    "\n",
    "stop = timeit.default_timer() \n",
    "print('Time: ', stop - start)  "
   ]
  },
  {
   "cell_type": "code",
   "execution_count": 9,
   "metadata": {},
   "outputs": [
    {
     "data": {
      "text/plain": [
       "1    Traveling to have a business meeting takes the fun out of the trip.  Especially if you have to prepare a presentation.  I would suggest holding the business plan meetings here then take a trip without any formal business meetings.  I would even try and get some honest opinions on whether a trip is even desired or necessary.As far as the business meetings, I think it would be more productive to try and stimulate discussions across the different groups about what is working and what is not.  Too often the presenter speaks and the others are quiet just waiting for their turn.   The meetings might be better if held in a round table discussion format.  My suggestion for where to go is Austin.  Play golf and rent a ski boat and jet ski's.  Flying somewhere takes too much time.\n",
       "Name: 1, dtype: object"
      ]
     },
     "execution_count": 9,
     "metadata": {},
     "output_type": "execute_result"
    }
   ],
   "source": [
    "#shows the content of an email\n",
    "dataset.iloc[1]"
   ]
  },
  {
   "cell_type": "code",
   "execution_count": 10,
   "metadata": {},
   "outputs": [
    {
     "data": {
      "text/plain": [
       "1    Traveling to have a business meeting takes the fun out of the trip.  Especially if you have to prepare a presentation.  I would suggest holding the business plan meetings here then take a trip without any formal business meetings.  I would even try and get some honest opinions on whether a trip is even desired or necessary.As far as the business meetings, I think it would be more productive to try and stimulate discussions across the different groups about what is working and what is not.  Too often the presenter speaks and the others are quiet just waiting for their turn.   The meetings might be better if held in a round table discussion format.  My suggestion for where to go is Austin.  Play golf and rent a ski boat and jet ski's.  Flying somewhere takes too much time.\n",
       "Name: 286, dtype: object"
      ]
     },
     "execution_count": 10,
     "metadata": {},
     "output_type": "execute_result"
    }
   ],
   "source": [
    "#shows the content of another email\n",
    "dataset.iloc[286]"
   ]
  },
  {
   "cell_type": "code",
   "execution_count": 11,
   "metadata": {},
   "outputs": [
    {
     "name": "stdout",
     "output_type": "stream",
     "text": [
      "global n. of shingles:  297461\n",
      "avg n. of shingles per email:  594.922\n"
     ]
    }
   ],
   "source": [
    "all_shingles_counter=0\n",
    "for email_shingles in all_shingles:\n",
    "    for shingle in email_shingles:\n",
    "        all_shingles_counter=all_shingles_counter+1\n",
    "print (\"global n. of shingles: \",all_shingles_counter)\n",
    "print (\"avg n. of shingles per email: \", all_shingles_counter/500)"
   ]
  },
  {
   "cell_type": "code",
   "execution_count": 12,
   "metadata": {},
   "outputs": [],
   "source": [
    "#the max integer as the upper limit of the minhashes\n",
    "max_integer=2**32-1"
   ]
  },
  {
   "cell_type": "code",
   "execution_count": 13,
   "metadata": {},
   "outputs": [],
   "source": [
    "#checks if integer n is a prime\n",
    "def isPrime(n):\n",
    "    return n > 1 and all(n%i for i in islice(count(2), int(sqrt(n)-1)))"
   ]
  },
  {
   "cell_type": "code",
   "execution_count": 14,
   "metadata": {},
   "outputs": [
    {
     "data": {
      "text/plain": [
       "4294967311"
      ]
     },
     "execution_count": 14,
     "metadata": {},
     "output_type": "execute_result"
    }
   ],
   "source": [
    "i = 1\n",
    "#finds first prime which is higher than the max integer\n",
    "while not isPrime(max_integer + i):\n",
    "    i = i + 1\n",
    "c = max_integer+i\n",
    "c"
   ]
  },
  {
   "cell_type": "markdown",
   "metadata": {},
   "source": [
    "## MinHash Similarity"
   ]
  },
  {
   "cell_type": "code",
   "execution_count": 15,
   "metadata": {},
   "outputs": [],
   "source": [
    "import random\n",
    "import numpy as np\n",
    "\n",
    "#number of hashes in the MinHash step\n",
    "num_hashes=100\n",
    "#matrix of signatures\n",
    "signature_matrix = [0 for i in range(num_hashes)]"
   ]
  },
  {
   "cell_type": "code",
   "execution_count": 16,
   "metadata": {},
   "outputs": [],
   "source": [
    "#function to get as many pairs of parameters as the number of hash functions\n",
    "def get_hash_coefficients():\n",
    "    a = random.sample(range(0,max_integer),num_hashes)\n",
    "    b = random.sample(range(0,max_integer),num_hashes)\n",
    "    return a, b\n",
    "\n",
    "#function to compute the signature out of a set of shingles\n",
    "def signature(email_shingles,a,b):  \n",
    "    #the resulting minhash signature for this email\n",
    "    signature = []\n",
    "    #for each of the random hash functions...\n",
    "    for i in range(num_hashes):\n",
    "        #tracks the lowest hash ID seen\n",
    "        #initializes 'min_hash' to be greater than the maximum possible value output by the hash\n",
    "        min_hash = c + 1\n",
    "        for shingle in email_shingles:\n",
    "            #print(\"shingle: \",shingle)\n",
    "            #our random hash function will take the form of:\n",
    "            #h(x) = (a*x + b) % c\n",
    "            #where 'x' is the input value, 'a' and 'b' are random coefficients, and 'c' is\n",
    "            #a prime number just greater than shingleNo.\n",
    "            hash_code = (a[i] * shingle + b[i]) % c \n",
    "            #print (\"hash: \",hash_code)\n",
    "            if hash_code < min_hash:\n",
    "                min_hash = hash_code\n",
    "        signature.append(min_hash)\n",
    "    #print (signature)\n",
    "    return signature\n",
    "\n",
    "#function to compare two signatures\n",
    "def compare_signatures( a, b):\n",
    "    #print (\"a: \", a)\n",
    "    #print (\"b: \", b)\n",
    "    equal = 0\n",
    "    for i in range(len(a)):\n",
    "        if(a[i]==b[i]):\n",
    "            equal += 1\n",
    "    return equal/len(a)"
   ]
  },
  {
   "cell_type": "code",
   "execution_count": 17,
   "metadata": {},
   "outputs": [],
   "source": [
    "a,b = get_hash_coefficients()\n",
    "#iterates over the emails in the dataset and creates the signature for each mail calling the signature function. Meanwhile, it appends every signature in the signature_matrix.\n",
    "for row in dataset.iterrows():\n",
    "    #gets the shingles set for this email\n",
    "    email_shingles=get_k_shingles(row[1].values)\n",
    "    #print (signature(email_shingles, a, b))\n",
    "    signature_matrix = np.column_stack((signature_matrix, signature(email_shingles, a, b)))"
   ]
  },
  {
   "cell_type": "code",
   "execution_count": 18,
   "metadata": {},
   "outputs": [
    {
     "data": {
      "text/plain": [
       "500"
      ]
     },
     "execution_count": 18,
     "metadata": {},
     "output_type": "execute_result"
    }
   ],
   "source": [
    "signature_matrix = np.delete(signature_matrix,0,axis = 1)\n",
    "signature_matrix.shape[1]"
   ]
  },
  {
   "cell_type": "code",
   "execution_count": 19,
   "metadata": {},
   "outputs": [
    {
     "name": "stdout",
     "output_type": "stream",
     "text": [
      "\n",
      " + MIN-HASH + \n",
      "\n",
      "(mail 0, mail 277): 0.96\n",
      "(mail 1, mail 286): 1.0\n",
      "(mail 12, mail 13): 1.0\n",
      "(mail 17, mail 287): 1.0\n",
      "(mail 23, mail 24): 0.92\n",
      "(mail 25, mail 26): 1.0\n",
      "(mail 28, mail 288): 1.0\n",
      "(mail 30, mail 35): 0.66\n",
      "(mail 34, mail 35): 0.66\n",
      "(mail 39, mail 289): 1.0\n",
      "(mail 41, mail 51): 1.0\n",
      "(mail 41, mail 57): 1.0\n",
      "(mail 50, mail 290): 0.95\n",
      "(mail 51, mail 57): 1.0\n",
      "(mail 61, mail 72): 0.54\n",
      "(mail 61, mail 292): 0.85\n",
      "(mail 66, mail 71): 0.86\n",
      "(mail 67, mail 74): 0.91\n",
      "(mail 72, mail 293): 0.81\n",
      "(mail 80, mail 123): 0.52\n",
      "(mail 83, mail 294): 1.0\n",
      "(mail 94, mail 105): 0.99\n",
      "(mail 94, mail 295): 0.92\n",
      "(mail 94, mail 296): 0.91\n",
      "(mail 105, mail 295): 0.91\n",
      "(mail 105, mail 296): 0.92\n",
      "(mail 116, mail 278): 0.8\n",
      "(mail 124, mail 142): 0.85\n",
      "(mail 128, mail 297): 1.0\n",
      "(mail 137, mail 384): 0.51\n",
      "(mail 137, mail 409): 0.55\n",
      "(mail 150, mail 298): 1.0\n",
      "(mail 161, mail 299): 1.0\n",
      "(mail 169, mail 170): 0.97\n",
      "(mail 172, mail 301): 1.0\n",
      "(mail 183, mail 302): 0.93\n",
      "(mail 192, mail 193): 0.95\n",
      "(mail 194, mail 303): 1.0\n",
      "(mail 199, mail 200): 0.94\n",
      "(mail 205, mail 304): 0.97\n",
      "(mail 209, mail 233): 0.6\n",
      "(mail 209, mail 246): 0.56\n",
      "(mail 214, mail 217): 0.87\n",
      "(mail 220, mail 222): 0.91\n",
      "(mail 223, mail 224): 0.63\n",
      "(mail 226, mail 279): 1.0\n",
      "(mail 227, mail 305): 0.95\n",
      "(mail 233, mail 246): 0.61\n",
      "(mail 238, mail 306): 1.0\n",
      "(mail 247, mail 248): 0.95\n",
      "(mail 249, mail 307): 1.0\n",
      "(mail 260, mail 308): 0.87\n",
      "(mail 270, mail 309): 0.97\n",
      "(mail 280, mail 329): 1.0\n",
      "(mail 281, mail 311): 1.0\n",
      "(mail 283, mail 285): 0.96\n",
      "(mail 291, mail 312): 1.0\n",
      "(mail 292, mail 293): 0.54\n",
      "(mail 295, mail 296): 0.99\n",
      "(mail 300, mail 313): 1.0\n",
      "(mail 314, mail 319): 1.0\n",
      "(mail 315, mail 341): 0.9\n",
      "(mail 316, mail 352): 1.0\n",
      "(mail 317, mail 363): 1.0\n",
      "(mail 318, mail 374): 1.0\n",
      "(mail 320, mail 396): 0.65\n",
      "(mail 321, mail 407): 1.0\n",
      "(mail 323, mail 324): 0.56\n",
      "(mail 348, mail 349): 0.86\n",
      "(mail 348, mail 351): 0.85\n",
      "(mail 349, mail 350): 0.57\n",
      "(mail 349, mail 351): 0.79\n",
      "(mail 357, mail 358): 0.91\n",
      "(mail 386, mail 390): 0.75\n",
      "(mail 387, mail 389): 0.51\n",
      "(mail 391, mail 488): 0.6\n",
      "(mail 406, mail 408): 0.79\n",
      "(mail 422, mail 427): 0.98\n",
      "(mail 426, mail 451): 0.57\n",
      "(mail 433, mail 434): 0.97\n",
      "(mail 433, mail 447): 0.65\n",
      "(mail 434, mail 447): 0.66\n",
      "(mail 439, mail 445): 0.62\n",
      "(mail 471, mail 472): 0.93\n",
      "Time:  5.2985751269734465\n"
     ]
    }
   ],
   "source": [
    "#prints the similarities between signatures whose value is > threshold\n",
    "print(\"\\n\", \"+ MIN-HASH +\",\"\\n\")\n",
    "start = timeit.default_timer()\n",
    "for i in range(signature_matrix.shape[1]):\n",
    "    for j in range(signature_matrix.shape[1]):\n",
    "        if i < j:\n",
    "            #print(value)\n",
    "            value = compare_signatures(np.squeeze(signature_matrix[:,i]), np.squeeze(signature_matrix[:,j]))\n",
    "            if value > threshold:\n",
    "                print(\"(mail \" + str(i) + \", mail \" + str(j) + \"): \" + str(value))\n",
    "stop = timeit.default_timer()\n",
    "print('Time: ', stop - start)"
   ]
  },
  {
   "cell_type": "code",
   "execution_count": 20,
   "metadata": {},
   "outputs": [
    {
     "data": {
      "text/plain": [
       "1    ---------------------- Forwarded by Phillip K Allen/HOU/ECT on 06/06/2000 12:27 PM ---------------------------   \\t\\t\\tFrom:  Phillip K Allen                           06/06/2000 10:26 AM\\tTo: Robert Badeer/HOU/ECT@ECTcc:  Subject: http://ecthou-webcl1.nt.ect.enron.com/gas/       All the gas reports are under west deskCall Brian Hoskins for a password\n",
       "Name: 169, dtype: object"
      ]
     },
     "execution_count": 20,
     "metadata": {},
     "output_type": "execute_result"
    }
   ],
   "source": [
    "#shows the content of an email\n",
    "dataset.iloc[169]"
   ]
  },
  {
   "cell_type": "code",
   "execution_count": 21,
   "metadata": {},
   "outputs": [
    {
     "data": {
      "text/plain": [
       "1    ---------------------- Forwarded by Phillip K Allen/HOU/ECT on 06/06/2000 12:26 PM ---------------------------   \\t\\t\\tFrom:  Phillip K Allen                           06/06/2000 10:26 AM\\tTo: Robert Badeer/HOU/ECT@ECTcc:  Subject: http://ecthou-webcl1.nt.ect.enron.com/gas/       All the gas reports are under west deskCall Brian Hoskins for a password\n",
       "Name: 170, dtype: object"
      ]
     },
     "execution_count": 21,
     "metadata": {},
     "output_type": "execute_result"
    }
   ],
   "source": [
    "#shows the content of another email\n",
    "dataset.iloc[170]"
   ]
  },
  {
   "cell_type": "markdown",
   "metadata": {},
   "source": [
    "## LSH Similarity"
   ]
  },
  {
   "cell_type": "code",
   "execution_count": 22,
   "metadata": {},
   "outputs": [],
   "source": [
    "from operator import itemgetter\n",
    "import random as rnd\n",
    "\n",
    "len_buckets = 101#choice a prime number\n",
    "hash_table = [[] for i in range(len_buckets)]\n",
    "\n",
    "# For the buckets\n",
    "def initialize_array_bucket(bands):\n",
    "    global len_buckets\n",
    "    array_buckets = []\n",
    "    for band in range(bands):\n",
    "        array_buckets.append([[] for i in range(len_buckets)])\n",
    "    return array_buckets\n",
    "\n",
    "# To generate hash function\n",
    "def generate_hash_functions(n):\n",
    "    hash_funcs = []\n",
    "\n",
    "    for i in range(n):\n",
    "        var = rnd.randint(0,1000)\n",
    "        cons = rnd.randint(0,1000)\n",
    "        hash_funcs.append([var,cons])\n",
    "    return hash_funcs\n",
    "\n",
    "def euclidean_distance(x,y,r=2.0):\n",
    "    try:\n",
    "        \n",
    "        return sum(((x[i] - y[i]) ** r) for i in range(len(x))) ** (1.0/r)\n",
    "    \n",
    "    except (ValueError,ZeroDivisionError):\n",
    "        print ('Please, enter only even values for \"r > 0\".')\n",
    "    except IndexError:\n",
    "        print ('Please, the sets must have the same size.')\n",
    "\n",
    "def cosine_distance(x,y):\n",
    "    prodAB = sum([x[i]*y[i] for i in range(len(x))])\n",
    "    zeros = [0 for i in range(len(x))]\n",
    "    A = euclidean_distance(x,zeros)\n",
    "    B = euclidean_distance(y,zeros)\n",
    "    return prodAB / (A*B)\n",
    "\n",
    "#4. Choose a threshold t that defines how similar documents have to be.\n",
    "#5. Construct candidate pairs by applying the LSH technique of Section 3.4.1.\n",
    "#6. Examine each candidate pair's signatures and determine whether the fraction\n",
    "#of components in which they agree is at least t.\n",
    "#Pick a number of bands b and a number of rows r such that br = n,\n",
    "#and the threshold t is approximately (1/b)^1/r\n",
    "#WARNING ==> b*r = n\n",
    "def apply_LSH_technique(SIG,t,bands=4,rows=3):\n",
    "    if bands * rows != len(SIG):\n",
    "        raise 'bands*rows must be equals to n :: bands*rows = n !!!'\n",
    "    #print SIG\n",
    "    #print\n",
    "\n",
    "    array_buckets = initialize_array_bucket(bands)\n",
    "    #print array_buckets\n",
    "\n",
    "    hash_funcs = generate_hash_functions(bands)\n",
    "\n",
    "\n",
    "    candidates = {}\n",
    "    \n",
    "    i = 0\n",
    "    for b in range(bands):\n",
    "        buckets = array_buckets[b]        \n",
    "        band = SIG[i:i+rows,:]\n",
    "        for col in range(band.shape[1]):\n",
    "            #print band[:,col]\n",
    "\n",
    "            #randomly generate\n",
    "            #key = 0\n",
    "            #for row in xrange(rows):\n",
    "            #    func = hash_funcs[row]\n",
    "            #    key += hash_minHash(band[row,col],func[0],func[1],len(buckets))\n",
    "            #key = int((key+sum(band[:,col])) % len(buckets))\n",
    "            #randomly generate\n",
    "            #func = hash_funcs[b]\n",
    "\n",
    "            #key = int(hash_minHash(sum(band[:,col]),func[0],func[1],len(buckets)))\n",
    "            #print 'key->',key\n",
    "            \n",
    "            key = int(sum(band[:,col]) % len(buckets))\n",
    "            \n",
    "            buckets[key].append(col)\n",
    "        i = i+rows\n",
    "\n",
    "        #print 'buckets #',b,buckets\n",
    "        for item in buckets:\n",
    "            if len(item) > 1:\n",
    "                pair = (item[0], item[1])\n",
    "                if pair not in candidates:\n",
    "                    A = SIG[:,item[0]]\n",
    "                    B = SIG[:,item[1]]\n",
    "                    similarity = cosine_distance(A,B)\n",
    "                    if similarity >= t:\n",
    "                        candidates[pair] = similarity\n",
    "\n",
    "\n",
    "    #print \n",
    "    sort = sorted(candidates.items(),key=itemgetter(1), reverse=True)\n",
    "    #print sort\n",
    "    #print \n",
    "    return candidates,sort"
   ]
  },
  {
   "cell_type": "code",
   "execution_count": 30,
   "metadata": {},
   "outputs": [
    {
     "name": "stderr",
     "output_type": "stream",
     "text": [
      "/Users/francescostaccone/anaconda3/lib/python3.6/site-packages/ipykernel_launcher.py:36: RuntimeWarning: overflow encountered in long_scalars\n"
     ]
    },
    {
     "name": "stdout",
     "output_type": "stream",
     "text": [
      "There are 53 candidate pairs\n",
      "\n",
      "{(41, 51): 1.0, (295, 296): 0.9971880386541006, (94, 105): 0.9970369978088147, (67, 74): 0.9756682565225766, (12, 13): 0.9999999999999999, (321, 407): 1.000000000000001, (214, 262): 0.7236074097414847, (23, 24): 0.944475981918403, (238, 306): 1.000000000000001, (17, 287): 0.9999999999999998, (34, 35): 0.856820682019427, (169, 170): 0.9973885509011055, (25, 26): 1.0, (317, 363): 1.0000000000000002, (315, 341): 0.9797487875670782, (28, 288): 1.0000000000000018, (161, 299): 1.0000000000000004, (316, 352): 1.0000000000000007, (348, 349): 0.8701520519350318, (205, 304): 0.9985717439532251, (247, 248): 0.9705496147187224, (99, 160): 0.7205564956774646, (66, 71): 0.7331668358178929, (214, 217): 0.8770600415845949, (160, 267): 0.7436896351030826, (249, 307): 0.9999999999999999, (246, 260): 0.7210909003289986, (1, 286): 1.000000000000001, (270, 309): 0.9837750065046552, (194, 303): 1.0, (192, 193): 0.9817003114695008, (292, 293): 0.7422833966042308, (192, 233): 0.7977317318901698, (348, 351): 0.9082006099942944, (226, 279): 1.000000000000001, (157, 169): 0.7268644299579999, (227, 305): 0.962509064758826, (422, 427): 0.9964758192315689, (150, 298): 1.0000000000000004, (128, 297): 1.0000000000000018, (30, 35): 0.8222486634045006, (199, 200): 0.9983085821078002, (300, 313): 1.0, (183, 302): 0.9219340723971674, (124, 142): 0.9122466134459895, (172, 301): 1.0000000000000002, (83, 294): 0.9999999999999998, (281, 311): 1.0, (39, 289): 1.0000000000000004, (61, 292): 0.9222316826103153, (55, 160): 0.7025017759377593, (68, 137): 0.7665727884964335, (406, 408): 0.8299672798722477}\n",
      "Time:  1.6214932950097136\n"
     ]
    }
   ],
   "source": [
    "#Calling the LSH function\n",
    "t=0.7\n",
    "b=20\n",
    "r=5\n",
    "\n",
    "start = timeit.default_timer()\n",
    "candidates,sort = apply_LSH_technique(signature_matrix,t,b,r)\n",
    "stop = timeit.default_timer()\n",
    "\n",
    "print(\"There are \" + str(len(candidates)) + \" candidate pairs\\n\")\n",
    "\n",
    "print(candidates)\n",
    "\n",
    "print (\"Time: \",stop-start)"
   ]
  },
  {
   "cell_type": "code",
   "execution_count": 31,
   "metadata": {
    "scrolled": true
   },
   "outputs": [
    {
     "data": {
      "text/plain": [
       "1    ---------------------- Forwarded by Phillip K Allen/HOU/ECT on 09/19/2000 04:35 PM ---------------------------\"George Richards\" <cbpres@austin.rr.com> on 09/08/2000 05:21:49 AMPlease respond to <cbpres@austin.rr.com>To: \"Phillip Allen\" <pallen@enron.com>cc: \"Larry Lewter\" <retwell@mail.sanmarcos.net> Subject: Westgate Proforma-Phillip Allen.xlsEnclosed is the preliminary proforma for the Westgate property is Austinthat we told you about.  As you can tell from the proforma this projectshould produce a truly exceptional return of over 40% per year over 3 years.This is especially attractive when the project is in a market as strong asAustin and we are introducing new product that in a very low price range forthis market.  This is the best project in terms of risk and reward that wehave uncovered to date in the Austin market.The project does have approved zoning and will only require a site plan.  Asit is in the \"Smart Growth Corridor\" area designated by the City of Austinfor preferred development, this will be fast tracked and should be completein less than 6 months.  Additionally, many of the current and more severewater treatment ordinances have been waived.  I have estimated the lotimprovement costs based on a 28 lot development we investigated in NorthAustin, which included a detention/retention and filtration pond and streetwidening.  Even though this property is not likely to require streetwidening and will have less of a detention/retention and filtration pondrequirement, I used this data to be cautious. The Lone Star gas line easement in the lower portion of the property is notexpected to impact sales significantly.  Other projects have been quitesuccessful with identical relationships to this pipeline, such as theadjoining single family residential and a project at St. Edwards University.As with most infill projects, the quality of the surrounding neighborhoodsis uneven.  We have included a fence around the entire property, but mayonly put it on Westgate and Cameron Loop.  Gated communities are farpreferred so this is a good idea for both screening and current buyerpreferences.The seller accepted our offer Thursday evening with a price of $680,000 andan extended escrow.  This will enable us to probably obtain an approved siteplan before closing on the contract, which will mean that we can close intoan A&D Loan rather than into a land loan and then an improvement loan.This analysis shows your investment at $700,000 for a 50% interest in theprofits of the project.  As we discussed in San Marcos, we can also discusshaving you invest only in the lots, sell the lots to the construction entitywith your profit in the lot.  I believe this would facilitate the use of a1031 Exchange of the proceeds from this deal into another project that is arental deal or at least into the land for a rental project that would thenbe the equity for that project.  You would need to discuss this with anexchange expert first.  Larry Lewter knows an expert in the field in SanAntonio if you do not know anyone.I will send you a package on the property that was prepared by the broker,by Airborne Express today for Saturday delivery.Once you have read the package and reviewed this proforma, we would want toschedule a tour of the site and the area.  Please get back to me as soon asyour schedule permits regarding the site visit and feel free to call at anytime.  You can reach me over the weekend and in the evening at either512-338-1119 or 512-338-1110.  My cell phone is 512-748-7495 and the fax is512-338-1103.   I look forward to hearing from you and to working with youon this project that is sure to be a major winner.I regret that it took so long to get back to you, but we had some unusualevents these past few weeks.  A small freakish wind storm with severe 60+mpgdowndrafts hit the South part of Austin where we are building 10 town homes.One of these units had just had the roof decked with the siding scheduled tostart the next day.  The severe downdraft hitting the decked roof was enoughto knock it down.  The City shut down the project for a week and it tookanother week to get every thing back on tract.  Then last week I had to takemy wife  to emergency.  She has a bulge in the material between the vertebrain her spine and it causes her extreme pain and has kept her bedridden thispast week..  There is nothing like having your wife incapacitated to realizethe enormous number of things she does everyday.   Fortunately, it looks asif she will be ok in the long run.George W. RichardsCreekside Builders, LLC - Westgate Proforma-Phillip Allen.xls\n",
       "Name: 41, dtype: object"
      ]
     },
     "execution_count": 31,
     "metadata": {},
     "output_type": "execute_result"
    }
   ],
   "source": [
    "dataset.iloc[41]"
   ]
  },
  {
   "cell_type": "code",
   "execution_count": 32,
   "metadata": {},
   "outputs": [
    {
     "data": {
      "text/plain": [
       "1    ---------------------- Forwarded by Phillip K Allen/HOU/ECT on 09/11/2000 04:57 PM ---------------------------\"George Richards\" <cbpres@austin.rr.com> on 09/08/2000 05:21:49 AMPlease respond to <cbpres@austin.rr.com>To: \"Phillip Allen\" <pallen@enron.com>cc: \"Larry Lewter\" <retwell@mail.sanmarcos.net> Subject: Westgate Proforma-Phillip Allen.xlsEnclosed is the preliminary proforma for the Westgate property is Austinthat we told you about.  As you can tell from the proforma this projectshould produce a truly exceptional return of over 40% per year over 3 years.This is especially attractive when the project is in a market as strong asAustin and we are introducing new product that in a very low price range forthis market.  This is the best project in terms of risk and reward that wehave uncovered to date in the Austin market.The project does have approved zoning and will only require a site plan.  Asit is in the \"Smart Growth Corridor\" area designated by the City of Austinfor preferred development, this will be fast tracked and should be completein less than 6 months.  Additionally, many of the current and more severewater treatment ordinances have been waived.  I have estimated the lotimprovement costs based on a 28 lot development we investigated in NorthAustin, which included a detention/retention and filtration pond and streetwidening.  Even though this property is not likely to require streetwidening and will have less of a detention/retention and filtration pondrequirement, I used this data to be cautious. The Lone Star gas line easement in the lower portion of the property is notexpected to impact sales significantly.  Other projects have been quitesuccessful with identical relationships to this pipeline, such as theadjoining single family residential and a project at St. Edwards University.As with most infill projects, the quality of the surrounding neighborhoodsis uneven.  We have included a fence around the entire property, but mayonly put it on Westgate and Cameron Loop.  Gated communities are farpreferred so this is a good idea for both screening and current buyerpreferences.The seller accepted our offer Thursday evening with a price of $680,000 andan extended escrow.  This will enable us to probably obtain an approved siteplan before closing on the contract, which will mean that we can close intoan A&D Loan rather than into a land loan and then an improvement loan.This analysis shows your investment at $700,000 for a 50% interest in theprofits of the project.  As we discussed in San Marcos, we can also discusshaving you invest only in the lots, sell the lots to the construction entitywith your profit in the lot.  I believe this would facilitate the use of a1031 Exchange of the proceeds from this deal into another project that is arental deal or at least into the land for a rental project that would thenbe the equity for that project.  You would need to discuss this with anexchange expert first.  Larry Lewter knows an expert in the field in SanAntonio if you do not know anyone.I will send you a package on the property that was prepared by the broker,by Airborne Express today for Saturday delivery.Once you have read the package and reviewed this proforma, we would want toschedule a tour of the site and the area.  Please get back to me as soon asyour schedule permits regarding the site visit and feel free to call at anytime.  You can reach me over the weekend and in the evening at either512-338-1119 or 512-338-1110.  My cell phone is 512-748-7495 and the fax is512-338-1103.   I look forward to hearing from you and to working with youon this project that is sure to be a major winner.I regret that it took so long to get back to you, but we had some unusualevents these past few weeks.  A small freakish wind storm with severe 60+mpgdowndrafts hit the South part of Austin where we are building 10 town homes.One of these units had just had the roof decked with the siding scheduled tostart the next day.  The severe downdraft hitting the decked roof was enoughto knock it down.  The City shut down the project for a week and it tookanother week to get every thing back on tract.  Then last week I had to takemy wife  to emergency.  She has a bulge in the material between the vertebrain her spine and it causes her extreme pain and has kept her bedridden thispast week..  There is nothing like having your wife incapacitated to realizethe enormous number of things she does everyday.   Fortunately, it looks asif she will be ok in the long run.George W. RichardsCreekside Builders, LLC - Westgate Proforma-Phillip Allen.xls\n",
       "Name: 51, dtype: object"
      ]
     },
     "execution_count": 32,
     "metadata": {},
     "output_type": "execute_result"
    }
   ],
   "source": [
    "dataset.iloc[51]"
   ]
  },
  {
   "cell_type": "code",
   "execution_count": null,
   "metadata": {},
   "outputs": [],
   "source": []
  },
  {
   "cell_type": "code",
   "execution_count": null,
   "metadata": {},
   "outputs": [],
   "source": []
  },
  {
   "cell_type": "code",
   "execution_count": null,
   "metadata": {},
   "outputs": [],
   "source": []
  },
  {
   "cell_type": "code",
   "execution_count": null,
   "metadata": {},
   "outputs": [],
   "source": []
  }
 ],
 "metadata": {
  "kernelspec": {
   "display_name": "Python 3",
   "language": "python",
   "name": "python3"
  },
  "language_info": {
   "codemirror_mode": {
    "name": "ipython",
    "version": 3
   },
   "file_extension": ".py",
   "mimetype": "text/x-python",
   "name": "python",
   "nbconvert_exporter": "python",
   "pygments_lexer": "ipython3",
   "version": "3.6.8"
  }
 },
 "nbformat": 4,
 "nbformat_minor": 2
}
